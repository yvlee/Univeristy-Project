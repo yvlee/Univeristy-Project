{
 "cells": [
  {
   "cell_type": "code",
   "execution_count": 4,
   "metadata": {},
   "outputs": [
    {
     "name": "stdout",
     "output_type": "stream",
     "text": [
      "                          0   1\n",
      "0   001M11/11/1998 88140 80  10\n",
      "1   016F11/13/1998 84120 78  X0\n",
      "2   033X10/21/1998 68190100  31\n",
      "3   004F01/01/1999101200120  5A\n",
      "4   XX5M05/07/1998 68120 80  10\n",
      "5   006 06/15/1999 72102 68  61\n",
      "6   007M08/32/1998 88148102   0\n",
      "7         008F08/08/1998210  70\n",
      "8   009M09/25/1999 86240180  41\n",
      "9      010F10/19/1999 40120  10\n",
      "10  011M13/13/1998 68300 20  41\n",
      "11  012M10/12/98   60122 74   0\n",
      "12  013208/23/1999 74108 64   1\n",
      "13  014M02/02/1999 22130 90   1\n",
      "14  002f11/13/1998 84120 78  X0\n",
      "15  003M11/12/1999 58112 74   0\n",
      "16  015F           82148 88  31\n",
      "17     017F04/05/1999208 84  20\n",
      "18  019M06/07/1999 58118 70   0\n",
      "19        123M15/12/1999 60  10\n",
      "20  321f          900400200  51\n",
      "21   020F99/99/9999 10 20 8   0\n",
      "22  022M10/10/1999 48114 82  21\n",
      "23  023F12/31/1998 22 34 78   0\n",
      "24  024F11/09/199876 120 80  10\n",
      "25  025M01/01/1999 74102 68  51\n",
      "26  027FNOTAVAIL  NA 166106  70\n",
      "27  028F03/28/1998 66150 90  30\n",
      "28           029M05/15/1998  41\n",
      "29  006F07/07/1999 82148 84  10\n"
     ]
    }
   ],
   "source": [
    "import pandas as pd\n",
    "df = pd.read_fwf('Patients.txt', colspecs= 'infer', header = None)\n",
    "#read_fwf because data is not in csv format but in fixed-width format\n",
    "#colspecs forcefully mention bout columns\n",
    "print(df)"
   ]
  },
  {
   "cell_type": "code",
   "execution_count": 5,
   "metadata": {},
   "outputs": [
    {
     "data": {
      "text/plain": [
       "(30, 2)"
      ]
     },
     "execution_count": 5,
     "metadata": {},
     "output_type": "execute_result"
    }
   ],
   "source": [
    "df.shape"
   ]
  },
  {
   "cell_type": "code",
   "execution_count": 6,
   "metadata": {},
   "outputs": [
    {
     "name": "stdout",
     "output_type": "stream",
     "text": [
      "      0    1           2      3      4      5    6  7\n",
      "0   001    M  11/11/1998   88.0  140.0   80.0    1  0\n",
      "1   016    F  11/13/1998   84.0  120.0   78.0    X  0\n",
      "2   033    X  10/21/1998   68.0  190.0  100.0    3  1\n",
      "3   004    F  01/01/1999  101.0  200.0  120.0    5  A\n",
      "4   XX5    M  05/07/1998   68.0  120.0   80.0    1  0\n",
      "5   006  NaN  06/15/1999   72.0  102.0   68.0    6  1\n",
      "6   007    M  08/32/1998   88.0  148.0  102.0  NaN  0\n",
      "7   008    F  08/08/1998  210.0    NaN    NaN    7  0\n",
      "8   009    M  09/25/1999   86.0  240.0  180.0    4  1\n",
      "9   010    F  10/19/1999   40.0  120.0    NaN    1  0\n",
      "10  011    M  13/13/1998   68.0  300.0   20.0    4  1\n",
      "11  012    M    10/12/98   60.0  122.0   74.0  NaN  0\n",
      "12  013    2  08/23/1999   74.0  108.0   64.0  NaN  1\n",
      "13  014    M  02/02/1999   22.0  130.0   90.0  NaN  1\n",
      "14  002    f  11/13/1998   84.0  120.0   78.0    X  0\n",
      "15  003    M  11/12/1999   58.0  112.0   74.0  NaN  0\n",
      "16  015    F         NaN   82.0  148.0   88.0    3  1\n",
      "17  017    F  04/05/1999  208.0   84.0    NaN    2  0\n",
      "18  019    M  06/07/1999   58.0  118.0   70.0  NaN  0\n",
      "19  123    M  15/12/1999   60.0    NaN    NaN    1  0\n",
      "20  321    f         NaN  900.0  400.0  200.0    5  1\n",
      "21  020    F  99/99/9999   10.0   20.0    8.0  NaN  0\n",
      "22  022    M  10/10/1999   48.0  114.0   82.0    2  1\n",
      "23  023    F  12/31/1998   22.0   34.0   78.0  NaN  0\n",
      "24  024    F  11/09/1998   76.0  120.0   80.0    1  0\n",
      "25  025    M  01/01/1999   74.0  102.0   68.0    5  1\n",
      "26  027    F    NOTAVAIL    NaN  166.0  106.0    7  0\n",
      "27  028    F  03/28/1998   66.0  150.0   90.0    3  0\n",
      "28  029    M  05/15/1998    NaN    NaN    NaN    4  1\n",
      "29  006    F  07/07/1999   82.0  148.0   84.0    1  0\n"
     ]
    }
   ],
   "source": [
    "df = pd.read_fwf('Patients.txt', widths=[3,1,10,3,3,3,3,1], header=None)\n",
    "print(df)"
   ]
  },
  {
   "cell_type": "code",
   "execution_count": 9,
   "metadata": {},
   "outputs": [
    {
     "name": "stdout",
     "output_type": "stream",
     "text": [
      "     ID Gender       Visit     HR    SBP    DBP   DX AE\n",
      "0   001      M  11/11/1998   88.0  140.0   80.0    1  0\n",
      "1   016      F  11/13/1998   84.0  120.0   78.0    X  0\n",
      "2   033      X  10/21/1998   68.0  190.0  100.0    3  1\n",
      "3   004      F  01/01/1999  101.0  200.0  120.0    5  A\n",
      "4   XX5      M  05/07/1998   68.0  120.0   80.0    1  0\n",
      "5   006    NaN  06/15/1999   72.0  102.0   68.0    6  1\n",
      "6   007      M  08/32/1998   88.0  148.0  102.0  NaN  0\n",
      "7   008      F  08/08/1998  210.0    NaN    NaN    7  0\n",
      "8   009      M  09/25/1999   86.0  240.0  180.0    4  1\n",
      "9   010      F  10/19/1999   40.0  120.0    NaN    1  0\n",
      "10  011      M  13/13/1998   68.0  300.0   20.0    4  1\n",
      "11  012      M    10/12/98   60.0  122.0   74.0  NaN  0\n",
      "12  013      2  08/23/1999   74.0  108.0   64.0  NaN  1\n",
      "13  014      M  02/02/1999   22.0  130.0   90.0  NaN  1\n",
      "14  002      f  11/13/1998   84.0  120.0   78.0    X  0\n",
      "15  003      M  11/12/1999   58.0  112.0   74.0  NaN  0\n",
      "16  015      F         NaN   82.0  148.0   88.0    3  1\n",
      "17  017      F  04/05/1999  208.0   84.0    NaN    2  0\n",
      "18  019      M  06/07/1999   58.0  118.0   70.0  NaN  0\n",
      "19  123      M  15/12/1999   60.0    NaN    NaN    1  0\n",
      "20  321      f         NaN  900.0  400.0  200.0    5  1\n",
      "21  020      F  99/99/9999   10.0   20.0    8.0  NaN  0\n",
      "22  022      M  10/10/1999   48.0  114.0   82.0    2  1\n",
      "23  023      F  12/31/1998   22.0   34.0   78.0  NaN  0\n",
      "24  024      F  11/09/1998   76.0  120.0   80.0    1  0\n",
      "25  025      M  01/01/1999   74.0  102.0   68.0    5  1\n",
      "26  027      F    NOTAVAIL    NaN  166.0  106.0    7  0\n",
      "27  028      F  03/28/1998   66.0  150.0   90.0    3  0\n",
      "28  029      M  05/15/1998    NaN    NaN    NaN    4  1\n",
      "29  006      F  07/07/1999   82.0  148.0   84.0    1  0\n"
     ]
    },
    {
     "data": {
      "text/plain": [
       "0     140.0\n",
       "1     120.0\n",
       "2     190.0\n",
       "3     200.0\n",
       "4     120.0\n",
       "5     102.0\n",
       "6     148.0\n",
       "7       NaN\n",
       "8     240.0\n",
       "9     120.0\n",
       "10    300.0\n",
       "11    122.0\n",
       "12    108.0\n",
       "13    130.0\n",
       "14    120.0\n",
       "15    112.0\n",
       "16    148.0\n",
       "17     84.0\n",
       "18    118.0\n",
       "19      NaN\n",
       "20    400.0\n",
       "21     20.0\n",
       "22    114.0\n",
       "23     34.0\n",
       "24    120.0\n",
       "25    102.0\n",
       "26    166.0\n",
       "27    150.0\n",
       "28      NaN\n",
       "29    148.0\n",
       "Name: SBP, dtype: float64"
      ]
     },
     "execution_count": 9,
     "metadata": {},
     "output_type": "execute_result"
    }
   ],
   "source": [
    "df.columns= ['ID','Gender','Visit','HR','SBP','DBP','DX','AE']\n",
    "print(df)\n",
    "df['SBP']"
   ]
  },
  {
   "cell_type": "code",
   "execution_count": 10,
   "metadata": {},
   "outputs": [
    {
     "data": {
      "text/plain": [
       "ID         object\n",
       "Gender     object\n",
       "Visit      object\n",
       "HR        float64\n",
       "SBP       float64\n",
       "DBP       float64\n",
       "DX         object\n",
       "AE         object\n",
       "dtype: object"
      ]
     },
     "execution_count": 10,
     "metadata": {},
     "output_type": "execute_result"
    }
   ],
   "source": [
    "df.dtypes"
   ]
  },
  {
   "cell_type": "code",
   "execution_count": 12,
   "metadata": {},
   "outputs": [
    {
     "name": "stdout",
     "output_type": "stream",
     "text": [
      "               HR         SBP         DBP\n",
      "count   28.000000   27.000000   25.000000\n",
      "mean   105.607143  143.555556   86.480000\n",
      "std    161.562816   75.186605   38.894216\n",
      "min     10.000000   20.000000    8.000000\n",
      "25%     59.500000  113.000000   74.000000\n",
      "50%     73.000000  120.000000   80.000000\n",
      "75%     84.500000  149.000000   90.000000\n",
      "max    900.000000  400.000000  200.000000\n"
     ]
    }
   ],
   "source": [
    "print(df.describe())\n",
    "#calculates only float datatypes"
   ]
  },
  {
   "cell_type": "code",
   "execution_count": 14,
   "metadata": {},
   "outputs": [
    {
     "data": {
      "image/png": "[encoded data removed]",
      "text/plain": [
       "<matplotlib.figure.Figure at 0x11af80dd8>"
      ]
     },
     "metadata": {},
     "output_type": "display_data"
    }
   ],
   "source": [
    "%matplotlib inline\n",
    "import matplotlib.pyplot as plt\n",
    "plt.scatter(df['HR'], df['SBP'])\n",
    "plt.xlabel('Heart Rate (HR)')\n",
    "plt.ylabel('Systolic Blood Pressure (SBP)')\n",
    "plt.show()"
   ]
  },
  {
   "cell_type": "code",
   "execution_count": 18,
   "metadata": {},
   "outputs": [
    {
     "data": {
      "text/plain": [
       "<matplotlib.collections.PathCollection at 0x11b1ce630>"
      ]
     },
     "execution_count": 18,
     "metadata": {},
     "output_type": "execute_result"
    },
    {
     "data": {
      "image/png": "[encoded data removed]",
      "text/plain": [
       "<matplotlib.figure.Figure at 0x11b21c1d0>"
      ]
     },
     "metadata": {},
     "output_type": "display_data"
    }
   ],
   "source": [
    "plt.scatter(df['HR'],df['SBP'], c=df['DBP'], s= 30, cmap='hot')\n",
    "#s is the parameter of matplotlib"
   ]
  },
  {
   "cell_type": "code",
   "execution_count": 16,
   "metadata": {},
   "outputs": [
    {
     "data": {
      "text/plain": [
       "0       M\n",
       "1       F\n",
       "2       X\n",
       "3       F\n",
       "4       M\n",
       "5     NaN\n",
       "6       M\n",
       "7       F\n",
       "8       M\n",
       "9       F\n",
       "10      M\n",
       "11      M\n",
       "12      2\n",
       "13      M\n",
       "14      f\n",
       "15      M\n",
       "16      F\n",
       "17      F\n",
       "18      M\n",
       "19      M\n",
       "20      f\n",
       "21      F\n",
       "22      M\n",
       "23      F\n",
       "24      F\n",
       "25      M\n",
       "26      F\n",
       "27      F\n",
       "28      M\n",
       "29      F\n",
       "Name: Gender, dtype: object"
      ]
     },
     "execution_count": 16,
     "metadata": {},
     "output_type": "execute_result"
    }
   ],
   "source": [
    "df['Gender']"
   ]
  },
  {
   "cell_type": "code",
   "execution_count": 19,
   "metadata": {},
   "outputs": [
    {
     "data": {
      "text/html": [
       "<div>\n",
       "<style>\n",
       "    .dataframe thead tr:only-child th {\n",
       "        text-align: right;\n",
       "    }\n",
       "\n",
       "    .dataframe thead th {\n",
       "        text-align: left;\n",
       "    }\n",
       "\n",
       "    .dataframe tbody tr th {\n",
       "        vertical-align: top;\n",
       "    }\n",
       "</style>\n",
       "<table border=\"1\" class=\"dataframe\">\n",
       "  <thead>\n",
       "    <tr style=\"text-align: right;\">\n",
       "      <th></th>\n",
       "      <th>ID</th>\n",
       "      <th>Gender</th>\n",
       "      <th>Visit</th>\n",
       "      <th>HR</th>\n",
       "      <th>SBP</th>\n",
       "      <th>DBP</th>\n",
       "      <th>DX</th>\n",
       "      <th>AE</th>\n",
       "    </tr>\n",
       "  </thead>\n",
       "  <tbody>\n",
       "    <tr>\n",
       "      <th>14</th>\n",
       "      <td>002</td>\n",
       "      <td>f</td>\n",
       "      <td>11/13/1998</td>\n",
       "      <td>84.0</td>\n",
       "      <td>120.0</td>\n",
       "      <td>78.0</td>\n",
       "      <td>X</td>\n",
       "      <td>0</td>\n",
       "    </tr>\n",
       "    <tr>\n",
       "      <th>20</th>\n",
       "      <td>321</td>\n",
       "      <td>f</td>\n",
       "      <td>NaN</td>\n",
       "      <td>900.0</td>\n",
       "      <td>400.0</td>\n",
       "      <td>200.0</td>\n",
       "      <td>5</td>\n",
       "      <td>1</td>\n",
       "    </tr>\n",
       "  </tbody>\n",
       "</table>\n",
       "</div>"
      ],
      "text/plain": [
       "     ID Gender       Visit     HR    SBP    DBP DX AE\n",
       "14  002      f  11/13/1998   84.0  120.0   78.0  X  0\n",
       "20  321      f         NaN  900.0  400.0  200.0  5  1"
      ]
     },
     "execution_count": 19,
     "metadata": {},
     "output_type": "execute_result"
    }
   ],
   "source": [
    "df.loc[df['Gender']=='f']\n",
    "#selects rows containing 'f' in Gender column"
   ]
  },
  {
   "cell_type": "code",
   "execution_count": 23,
   "metadata": {},
   "outputs": [
    {
     "data": {
      "text/plain": [
       "0       M\n",
       "1       F\n",
       "2       X\n",
       "3       F\n",
       "4       M\n",
       "5     NaN\n",
       "6       M\n",
       "7       F\n",
       "8       M\n",
       "9       F\n",
       "10      M\n",
       "11      M\n",
       "12      2\n",
       "13      M\n",
       "14      F\n",
       "15      M\n",
       "16      F\n",
       "17      F\n",
       "18      M\n",
       "19      M\n",
       "20      F\n",
       "21      F\n",
       "22      M\n",
       "23      F\n",
       "24      F\n",
       "25      M\n",
       "26      F\n",
       "27      F\n",
       "28      M\n",
       "29      F\n",
       "Name: Gender, dtype: object"
      ]
     },
     "execution_count": 23,
     "metadata": {},
     "output_type": "execute_result"
    }
   ],
   "source": [
    "df.loc[df['Gender']=='f'] = 'F'\n",
    "df['Gender']"
   ]
  },
  {
   "cell_type": "code",
   "execution_count": 24,
   "metadata": {},
   "outputs": [
    {
     "data": {
      "text/plain": [
       "143.55555555555554"
      ]
     },
     "execution_count": 24,
     "metadata": {},
     "output_type": "execute_result"
    }
   ],
   "source": [
    "df['SBP'].mean()"
   ]
  },
  {
   "cell_type": "code",
   "execution_count": 32,
   "metadata": {},
   "outputs": [
    {
     "data": {
      "text/plain": [
       "Gender\n",
       "2     64.000000\n",
       "F     91.818182\n",
       "M     83.636364\n",
       "X    100.000000\n",
       "Name: DBP, dtype: float64"
      ]
     },
     "execution_count": 32,
     "metadata": {},
     "output_type": "execute_result"
    }
   ],
   "source": [
    "df.groupby('Gender')['DBP'].mean()\n",
    "#finds out what the avg blood pressure for different genders separately"
   ]
  },
  {
   "cell_type": "code",
   "execution_count": 33,
   "metadata": {},
   "outputs": [
    {
     "data": {
      "text/html": [
       "<div>\n",
       "<style>\n",
       "    .dataframe thead tr:only-child th {\n",
       "        text-align: right;\n",
       "    }\n",
       "\n",
       "    .dataframe thead th {\n",
       "        text-align: left;\n",
       "    }\n",
       "\n",
       "    .dataframe tbody tr th {\n",
       "        vertical-align: top;\n",
       "    }\n",
       "</style>\n",
       "<table border=\"1\" class=\"dataframe\">\n",
       "  <thead>\n",
       "    <tr style=\"text-align: right;\">\n",
       "      <th></th>\n",
       "      <th>SBP</th>\n",
       "      <th>DBP</th>\n",
       "    </tr>\n",
       "    <tr>\n",
       "      <th>Gender</th>\n",
       "      <th></th>\n",
       "      <th></th>\n",
       "    </tr>\n",
       "  </thead>\n",
       "  <tbody>\n",
       "    <tr>\n",
       "      <th>2</th>\n",
       "      <td>108.000000</td>\n",
       "      <td>64.000000</td>\n",
       "    </tr>\n",
       "    <tr>\n",
       "      <th>F</th>\n",
       "      <td>140.769231</td>\n",
       "      <td>91.818182</td>\n",
       "    </tr>\n",
       "    <tr>\n",
       "      <th>M</th>\n",
       "      <td>149.636364</td>\n",
       "      <td>83.636364</td>\n",
       "    </tr>\n",
       "    <tr>\n",
       "      <th>X</th>\n",
       "      <td>190.000000</td>\n",
       "      <td>100.000000</td>\n",
       "    </tr>\n",
       "  </tbody>\n",
       "</table>\n",
       "</div>"
      ],
      "text/plain": [
       "               SBP         DBP\n",
       "Gender                        \n",
       "2       108.000000   64.000000\n",
       "F       140.769231   91.818182\n",
       "M       149.636364   83.636364\n",
       "X       190.000000  100.000000"
      ]
     },
     "execution_count": 33,
     "metadata": {},
     "output_type": "execute_result"
    }
   ],
   "source": [
    "df.groupby('Gender')['SBP','DBP'].mean()"
   ]
  },
  {
   "cell_type": "code",
   "execution_count": 34,
   "metadata": {},
   "outputs": [
    {
     "data": {
      "text/html": [
       "<div>\n",
       "<style>\n",
       "    .dataframe thead tr:only-child th {\n",
       "        text-align: right;\n",
       "    }\n",
       "\n",
       "    .dataframe thead th {\n",
       "        text-align: left;\n",
       "    }\n",
       "\n",
       "    .dataframe tbody tr th {\n",
       "        vertical-align: top;\n",
       "    }\n",
       "</style>\n",
       "<table border=\"1\" class=\"dataframe\">\n",
       "  <thead>\n",
       "    <tr style=\"text-align: right;\">\n",
       "      <th></th>\n",
       "      <th>HR</th>\n",
       "      <th>SBP</th>\n",
       "      <th>DBP</th>\n",
       "    </tr>\n",
       "    <tr>\n",
       "      <th>Gender</th>\n",
       "      <th></th>\n",
       "      <th></th>\n",
       "      <th></th>\n",
       "    </tr>\n",
       "  </thead>\n",
       "  <tbody>\n",
       "    <tr>\n",
       "      <th>2</th>\n",
       "      <td>74.000000</td>\n",
       "      <td>108.000000</td>\n",
       "      <td>64.000000</td>\n",
       "    </tr>\n",
       "    <tr>\n",
       "      <th>F</th>\n",
       "      <td>151.153846</td>\n",
       "      <td>140.769231</td>\n",
       "      <td>91.818182</td>\n",
       "    </tr>\n",
       "    <tr>\n",
       "      <th>M</th>\n",
       "      <td>64.833333</td>\n",
       "      <td>149.636364</td>\n",
       "      <td>83.636364</td>\n",
       "    </tr>\n",
       "    <tr>\n",
       "      <th>X</th>\n",
       "      <td>68.000000</td>\n",
       "      <td>190.000000</td>\n",
       "      <td>100.000000</td>\n",
       "    </tr>\n",
       "  </tbody>\n",
       "</table>\n",
       "</div>"
      ],
      "text/plain": [
       "                HR         SBP         DBP\n",
       "Gender                                    \n",
       "2        74.000000  108.000000   64.000000\n",
       "F       151.153846  140.769231   91.818182\n",
       "M        64.833333  149.636364   83.636364\n",
       "X        68.000000  190.000000  100.000000"
      ]
     },
     "execution_count": 34,
     "metadata": {},
     "output_type": "execute_result"
    }
   ],
   "source": [
    "df.groupby('Gender').mean()\n",
    "#listings aggregate values for all other columns"
   ]
  },
  {
   "cell_type": "code",
   "execution_count": 42,
   "metadata": {},
   "outputs": [
    {
     "data": {
      "text/plain": [
       "(22, 8)"
      ]
     },
     "execution_count": 42,
     "metadata": {},
     "output_type": "execute_result"
    }
   ],
   "source": [
    "df = df[df['SBP']<=350]\n",
    "df.shape"
   ]
  },
  {
   "cell_type": "code",
   "execution_count": null,
   "metadata": {},
   "outputs": [],
   "source": []
  },
  {
   "cell_type": "code",
   "execution_count": 43,
   "metadata": {},
   "outputs": [
    {
     "data": {
      "text/plain": [
       "(22, 8)"
      ]
     },
     "execution_count": 43,
     "metadata": {},
     "output_type": "execute_result"
    }
   ],
   "source": [
    "df = df[df['HR'] >30]\n",
    "df.shape"
   ]
  },
  {
   "cell_type": "code",
   "execution_count": 45,
   "metadata": {},
   "outputs": [
    {
     "data": {
      "image/png": "[encoded data removed]",
      "text/plain": [
       "<matplotlib.figure.Figure at 0x11b2f5eb8>"
      ]
     },
     "metadata": {},
     "output_type": "display_data"
    }
   ],
   "source": [
    "plt.scatter(df['HR'], df['SBP'])\n",
    "plt.xlabel('Heart Rate (HR)')\n",
    "plt.ylabel('Systolic Blood Pressure (SBP)')\n",
    "plt.show()"
   ]
  },
  {
   "cell_type": "code",
   "execution_count": 48,
   "metadata": {},
   "outputs": [
    {
     "data": {
      "text/plain": [
       "<matplotlib.collections.PathCollection at 0x11af807f0>"
      ]
     },
     "execution_count": 48,
     "metadata": {},
     "output_type": "execute_result"
    },
    {
     "data": {
      "image/png": "[encoded data removed]",
      "text/plain": [
       "<matplotlib.figure.Figure at 0x11b418d30>"
      ]
     },
     "metadata": {},
     "output_type": "display_data"
    }
   ],
   "source": [
    "from scipy.stats import linregress\n",
    "# We use a standard package: \n",
    "slope, intercept, r_value, p_value, std_err = linregress(df['HR'],df['SBP'])\n",
    "# Here's our function:\n",
    "line = [slope*xi + intercept for xi in df['HR']]\n",
    "# plot up the line\n",
    "plt.plot(df['HR'],line,'r-', linewidth=1)\n",
    "plt.scatter(df['HR'],df['SBP'])"
   ]
  },
  {
   "cell_type": "code",
   "execution_count": null,
   "metadata": {
    "collapsed": true
   },
   "outputs": [],
   "source": []
  }
 ],
 "metadata": {
  "kernelspec": {
   "display_name": "Python 3",
   "language": "python",
   "name": "python3"
  },
  "language_info": {
   "codemirror_mode": {
    "name": "ipython",
    "version": 3
   },
   "file_extension": ".py",
   "mimetype": "text/x-python",
   "name": "python",
   "nbconvert_exporter": "python",
   "pygments_lexer": "ipython3",
   "version": "3.6.1"
  }
 },
 "nbformat": 4,
 "nbformat_minor": 2
}
